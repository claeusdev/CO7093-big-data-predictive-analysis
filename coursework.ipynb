{
 "cells": [
  {
   "cell_type": "code",
   "execution_count": 2,
   "id": "5c6588be-9192-4bcf-893f-db7af0705706",
   "metadata": {},
   "outputs": [
    {
     "data": {
      "text/plain": [
       "(0.919664268585132, 0.5068107960847652)"
      ]
     },
     "execution_count": 2,
     "metadata": {},
     "output_type": "execute_result"
    }
   ],
   "source": [
    "from sklearn.model_selection import train_test_split\n",
    "from sklearn.linear_model import LogisticRegression\n",
    "from sklearn.metrics import accuracy_score, roc_auc_score\n",
    "from sklearn.preprocessing import StandardScaler\n",
    "import pandas as pd\n",
    "\n",
    "# Step 1: Data Preparation\n",
    "# Load the dataset\n",
    "file_path = 'diabetic_data.csv'\n",
    "data = pd.read_csv(file_path)\n",
    "\n",
    "# Replace '?' with NaN\n",
    "data.replace('?', pd.NA, inplace=True)\n",
    "\n",
    "# Convert 'readmitted' column to binary\n",
    "data['readmitted'] = data['readmitted'].apply(lambda x: 1 if x == '<30' else 0)\n",
    "\n",
    "# Drop columns with more than 90% missing values and with no variance\n",
    "missing_percentage = data.isna().mean() * 100\n",
    "columns_to_drop = missing_percentage[missing_percentage > 90].index.tolist()\n",
    "columns_with_no_variation = data.columns[data.nunique() <= 1]\n",
    "data.drop(columns=columns_to_drop + list(columns_with_no_variation), inplace=True)\n",
    "\n",
    "# Dropping rows with any missing value to focus on the clean subset for modeling\n",
    "data_cleaned = data.dropna()\n",
    "\n",
    "# Step 2: Feature Selection\n",
    "# Selecting a subset of features for demonstration purposes\n",
    "features = ['time_in_hospital', 'num_lab_procedures', 'num_procedures', \n",
    "            'num_medications', 'number_outpatient', 'number_emergency', \n",
    "            'number_inpatient', 'number_diagnoses']\n",
    "target = 'readmitted'\n",
    "\n",
    "# Step 3: Model Building\n",
    "# Splitting the dataset into training and testing sets\n",
    "X = data_cleaned[features]\n",
    "y = data_cleaned[target]\n",
    "X_train, X_test, y_train, y_test = train_test_split(X, y, test_size=0.2, random_state=42)\n",
    "\n",
    "# Standardizing the features\n",
    "scaler = StandardScaler()\n",
    "X_train_scaled = scaler.fit_transform(X_train)\n",
    "X_test_scaled = scaler.transform(X_test)\n",
    "\n",
    "# Logistic Regression Model\n",
    "model = LogisticRegression(random_state=42)\n",
    "model.fit(X_train_scaled, y_train)\n",
    "\n",
    "# Predictions\n",
    "y_pred = model.predict(X_test_scaled)\n",
    "\n",
    "# Step 4: Evaluation\n",
    "accuracy = accuracy_score(y_test, y_pred)\n",
    "roc_auc = roc_auc_score(y_test, y_pred)\n",
    "\n",
    "accuracy, roc_auc\n"
   ]
  },
  {
   "cell_type": "code",
   "execution_count": null,
   "id": "901b1681-6932-4c2e-a26a-71a99a80141a",
   "metadata": {},
   "outputs": [],
   "source": []
  }
 ],
 "metadata": {
  "kernelspec": {
   "display_name": "Python 3 (ipykernel)",
   "language": "python",
   "name": "python3"
  },
  "language_info": {
   "codemirror_mode": {
    "name": "ipython",
    "version": 3
   },
   "file_extension": ".py",
   "mimetype": "text/x-python",
   "name": "python",
   "nbconvert_exporter": "python",
   "pygments_lexer": "ipython3",
   "version": "3.11.7"
  }
 },
 "nbformat": 4,
 "nbformat_minor": 5
}
