{
 "cells": [
  {
   "cell_type": "code",
   "execution_count": 7,
   "id": "52860d70-cc98-4096-8872-97c19c0bb4a5",
   "metadata": {},
   "outputs": [
    {
     "data": {
      "text/plain": [
       "(2127, 30)"
      ]
     },
     "execution_count": 7,
     "metadata": {},
     "output_type": "execute_result"
    }
   ],
   "source": [
    "# Let's restart the process, including outlier removal this time\n",
    "\n",
    "# Load the dataset\n",
    "df = pd.read_csv('diabetic_data.csv')\n",
    "\n",
    "# Initial operations\n",
    "df.drop('encounter_id', axis=1, inplace=True)\n",
    "df.replace('?', pd.NA, inplace=True)\n",
    "df['readmitted'] = df['readmitted'].map({'<30': 1, '>30': 0, 'NO': 0})\n",
    "\n",
    "# Drop columns with more than 90% missing values\n",
    "missing_percentage = df.isna().mean() * 100\n",
    "columns_to_drop = missing_percentage[missing_percentage > 90].index\n",
    "df.drop(columns=columns_to_drop, inplace=True)\n",
    "\n",
    "# Delete specified columns\n",
    "nzv_columns = ['repaglinide', 'nateglinide', 'chlorpropamide', 'glimepiride', 'acetohexamide',\n",
    "               'tolbutamide', 'acarbose', 'miglitol', 'troglitazone', 'tolazamide', 'examide',\n",
    "               'citoglipton', 'glyburide-metformin', 'glipizide-metformin', \n",
    "               'glimepiride-pioglitazone', 'metformin-rosiglitazone', 'metformin-pioglitazone']\n",
    "df.drop(nzv_columns, axis=1, inplace=True)\n",
    "\n",
    "# Drop rows with null values\n",
    "df.dropna(inplace=True)\n",
    "\n",
    "# Outlier removal\n",
    "Q1 = df.select_dtypes(include=['float64', 'int64']).quantile(0.25)\n",
    "Q3 = df.select_dtypes(include=['float64', 'int64']).quantile(0.75)\n",
    "IQR = Q3 - Q1\n",
    "lower_bound = Q1 - 1.5 * IQR\n",
    "upper_bound = Q3 + 1.5 * IQR\n",
    "\n",
    "df_cleaned = df[~((df.select_dtypes(include=['float64', 'int64']) < lower_bound) | (df.select_dtypes(include=['float64', 'int64']) > upper_bound)).any(axis=1)]\n",
    "\n",
    "# Final shape\n",
    "final_shape = df_cleaned.shape\n",
    "\n",
    "final_shape\n"
   ]
  },
  {
   "cell_type": "code",
   "execution_count": null,
   "id": "b3511eb6-3f76-4f55-9789-0b1be623d2d7",
   "metadata": {},
   "outputs": [],
   "source": []
  }
 ],
 "metadata": {
  "kernelspec": {
   "display_name": "Python 3 (ipykernel)",
   "language": "python",
   "name": "python3"
  },
  "language_info": {
   "codemirror_mode": {
    "name": "ipython",
    "version": 3
   },
   "file_extension": ".py",
   "mimetype": "text/x-python",
   "name": "python",
   "nbconvert_exporter": "python",
   "pygments_lexer": "ipython3",
   "version": "3.11.7"
  }
 },
 "nbformat": 4,
 "nbformat_minor": 5
}
